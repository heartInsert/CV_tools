{
 "cells": [
  {
   "cell_type": "code",
   "execution_count": 1,
   "metadata": {},
   "outputs": [],
   "source": [
    "import pandas as pd\n",
    "import matplotlib.pyplot as plt\n",
    "import numpy as np\n",
    "import json\n",
    "\n",
    "# 输入coco形式的 json 文件\n",
    "instance_json_path = '/home/xjz/Desktop/Coding/PycharmProjects/competition/Help_Tools/CV_tools/data/DcicCoco_train.json'\n",
    "with open(instance_json_path, 'r') as f:\n",
    "    json_file = json.load(f)\n",
    "annotations = json_file['annotations']\n",
    "width_list = []\n",
    "height_list = []\n",
    "width_height_ratio = []\n",
    "for row in annotations:\n",
    "    x_min, y_min, width, height = row['bbox']\n",
    "    width_list.append(width)\n",
    "    height_list.append(height)\n",
    "    width_height_ratio.append(width / height)\n",
    "\n"
   ]
  },
  {
   "cell_type": "code",
   "execution_count": 5,
   "metadata": {},
   "outputs": [
    {
     "data": {
      "image/png": "[encoded data removed]",
      "text/plain": [
       "<Figure size 432x288 with 1 Axes>"
      ]
     },
     "metadata": {
      "needs_background": "light"
     },
     "output_type": "display_data"
    },
    {
     "name": "stdout",
     "output_type": "stream",
     "text": [
      "24506\n",
      "width  min: 3.0  max 213.0\n"
     ]
    }
   ],
   "source": [
    "plt.hist(width_list, bins=50, color='b', alpha=0.3)\n",
    "plt.show()\n",
    "print(len([item  for item in width_list if item <50]  ))\n",
    "\n",
    "print(\"width  min: {}  max {}\".format(np.min(width_list),np.max(width_list)))"
   ]
  },
  {
   "cell_type": "code",
   "execution_count": 6,
   "metadata": {},
   "outputs": [
    {
     "data": {
      "image/png": "[encoded data removed]",
      "text/plain": [
       "<Figure size 432x288 with 1 Axes>"
      ]
     },
     "metadata": {
      "needs_background": "light"
     },
     "output_type": "display_data"
    },
    {
     "name": "stdout",
     "output_type": "stream",
     "text": [
      "23492\n",
      "height_list  min: 5.0  max 229.0\n"
     ]
    }
   ],
   "source": [
    "plt.hist(height_list, bins=10, color='b', alpha=0.3)\n",
    "plt.show()\n",
    "print(len([item  for item in height_list if item <50]))\n",
    "print(\"height_list  min: {}  max {}\".format(np.min(height_list),np.max(height_list)))"
   ]
  },
  {
   "cell_type": "code",
   "execution_count": 11,
   "metadata": {},
   "outputs": [
    {
     "data": {
      "image/png": "[encoded data removed]",
      "text/plain": [
       "<Figure size 432x288 with 1 Axes>"
      ]
     },
     "metadata": {
      "needs_background": "light"
     },
     "output_type": "display_data"
    },
    {
     "name": "stdout",
     "output_type": "stream",
     "text": [
      "width_height_ratio  min: 0.08387096774193549  max 7.571428571428571\n"
     ]
    }
   ],
   "source": [
    "plt.hist(width_height_ratio, bins=10, color='b', alpha=0.3)\n",
    "plt.show()\n",
    "print(\"width_height_ratio  min: {}  max {}\".format(np.min(width_height_ratio),np.max(width_height_ratio)))"
   ]
  }
 ],
 "metadata": {
  "kernelspec": {
   "display_name": "Python [conda env:pytorch_newest] *",
   "language": "python",
   "name": "conda-env-pytorch_newest-py"
  },
  "language_info": {
   "codemirror_mode": {
    "name": "ipython",
    "version": 3
   },
   "file_extension": ".py",
   "mimetype": "text/x-python",
   "name": "python",
   "nbconvert_exporter": "python",
   "pygments_lexer": "ipython3",
   "version": "3.7.4"
  }
 },
 "nbformat": 4,
 "nbformat_minor": 4
}
